{
  "nbformat": 4,
  "nbformat_minor": 0,
  "metadata": {
    "colab": {
      "provenance": [],
      "authorship_tag": "ABX9TyMn+glepZJVeebAyx+R80fy",
      "include_colab_link": true
    },
    "kernelspec": {
      "name": "python3",
      "display_name": "Python 3"
    },
    "language_info": {
      "name": "python"
    }
  },
  "cells": [
    {
      "cell_type": "markdown",
      "metadata": {
        "id": "view-in-github",
        "colab_type": "text"
      },
      "source": [
        "<a href=\"https://colab.research.google.com/github/Runa-w/Python_for_Data_Sci/blob/master/ExercisesForPythonForDataScience_Ch1_3.ipynb\" target=\"_parent\"><img src=\"https://colab.research.google.com/assets/colab-badge.svg\" alt=\"Open In Colab\"/></a>"
      ]
    },
    {
      "cell_type": "markdown",
      "source": [
        "The following are exercises and examples from Chapter 2 of Python for Data Science by Yuli Vasiliev."
      ],
      "metadata": {
        "id": "ukhcyjTAausJ"
      }
    },
    {
      "cell_type": "code",
      "execution_count": null,
      "metadata": {
        "id": "flMStWHYFVsA"
      },
      "outputs": [],
      "source": [
        "my_list = []\n",
        "\n",
        "my_list.append('Pay bills')\n",
        "my_list.append('Tidy up')\n",
        "my_list.append('Walk the dog')\n",
        "my_list.append('Cook dinner')"
      ]
    },
    {
      "cell_type": "code",
      "source": [
        "print(my_list)"
      ],
      "metadata": {
        "colab": {
          "base_uri": "https://localhost:8080/"
        },
        "id": "RAs15ZMmGigi",
        "outputId": "2306c5e0-4ef4-4867-aa3d-6a48b38de453"
      },
      "execution_count": null,
      "outputs": [
        {
          "output_type": "stream",
          "name": "stdout",
          "text": [
            "['Pay bills', 'Tidy up', 'Walk the dog', 'Cook dinner']\n"
          ]
        }
      ]
    },
    {
      "cell_type": "code",
      "source": [
        "print(my_list[0])"
      ],
      "metadata": {
        "colab": {
          "base_uri": "https://localhost:8080/"
        },
        "id": "CFx9adBEGpcj",
        "outputId": "540e7d84-f121-43a6-9f5c-443ffe43dca0"
      },
      "execution_count": null,
      "outputs": [
        {
          "output_type": "stream",
          "name": "stdout",
          "text": [
            "Pay bills\n"
          ]
        }
      ]
    },
    {
      "cell_type": "code",
      "source": [
        "i = my_list.index('Cook dinner')\n",
        "\n",
        "my_list.insert(i, 'Go to the pharmacy')\n",
        "\n",
        "print(my_list)"
      ],
      "metadata": {
        "colab": {
          "base_uri": "https://localhost:8080/"
        },
        "id": "_nIX6NV-G54L",
        "outputId": "3d99ade1-246d-4061-de71-d2a540eb27cb"
      },
      "execution_count": null,
      "outputs": [
        {
          "output_type": "stream",
          "name": "stdout",
          "text": [
            "['Pay bills', 'Tidy up', 'Walk the dog', 'Go to the pharmacy', 'Cook dinner']\n"
          ]
        }
      ]
    },
    {
      "cell_type": "code",
      "source": [
        "print(my_list.count('Tidy up'))"
      ],
      "metadata": {
        "colab": {
          "base_uri": "https://localhost:8080/"
        },
        "id": "ghJX0SZPHjHa",
        "outputId": "24700d6e-f7f5-4d31-f09e-44706834bcd5"
      },
      "execution_count": null,
      "outputs": [
        {
          "output_type": "stream",
          "name": "stdout",
          "text": [
            "1\n"
          ]
        }
      ]
    },
    {
      "cell_type": "code",
      "source": [
        "print(my_list[0:3])"
      ],
      "metadata": {
        "colab": {
          "base_uri": "https://localhost:8080/"
        },
        "id": "rYjppJOXJtHy",
        "outputId": "628a45c6-d00c-4bc8-a3a8-afabaa20abdc"
      },
      "execution_count": null,
      "outputs": [
        {
          "output_type": "stream",
          "name": "stdout",
          "text": [
            "['Pay bills', 'Tidy up', 'Walk the dog']\n"
          ]
        }
      ]
    },
    {
      "cell_type": "code",
      "source": [
        "my_list[len(my_list):] = ['Mow the lawn', 'Water Plants']\n",
        "print(my_list)"
      ],
      "metadata": {
        "colab": {
          "base_uri": "https://localhost:8080/"
        },
        "id": "0Fp75qMBKGiG",
        "outputId": "63937555-024f-41f2-e2c6-fccb34105cd8"
      },
      "execution_count": null,
      "outputs": [
        {
          "output_type": "stream",
          "name": "stdout",
          "text": [
            "['Pay bills', 'Tidy up', 'Walk the dog', 'Go to the pharmacy', 'Cook dinner', 'Mow the lawn', 'Water Plants']\n"
          ]
        }
      ]
    },
    {
      "cell_type": "code",
      "source": [
        "del my_list[5:]\n",
        "print(my_list)"
      ],
      "metadata": {
        "colab": {
          "base_uri": "https://localhost:8080/"
        },
        "id": "9Q2TDmpWKeJz",
        "outputId": "c118b512-e464-4b09-9193-de4675cedddd"
      },
      "execution_count": null,
      "outputs": [
        {
          "output_type": "stream",
          "name": "stdout",
          "text": [
            "['Pay bills', 'Tidy up', 'Walk the dog', 'Go to the pharmacy', 'Cook dinner']\n"
          ]
        }
      ]
    },
    {
      "cell_type": "code",
      "source": [
        "from collections import deque\n",
        "queue = deque(my_list)\n",
        "queue.append('Wash the Car')\n",
        "print(queue.popleft(), ' - Done!')\n",
        "my_list_upd = list(queue)"
      ],
      "metadata": {
        "colab": {
          "base_uri": "https://localhost:8080/"
        },
        "id": "8Ov5AILTQ6Bx",
        "outputId": "c8d02518-3234-415c-f26a-880a90bbc462"
      },
      "execution_count": null,
      "outputs": [
        {
          "output_type": "stream",
          "name": "stdout",
          "text": [
            "Pay bills  - Done!\n"
          ]
        }
      ]
    },
    {
      "cell_type": "code",
      "source": [
        "print(my_list)\n",
        "print(my_list_upd)"
      ],
      "metadata": {
        "colab": {
          "base_uri": "https://localhost:8080/"
        },
        "id": "ZLe8_AHDRkMj",
        "outputId": "10550ea0-5a7c-4cc8-cf77-fe2f9103c660"
      },
      "execution_count": null,
      "outputs": [
        {
          "output_type": "stream",
          "name": "stdout",
          "text": [
            "['Pay bills', 'Tidy up', 'Walk the dog', 'Go to the pharmacy', 'Cook dinner']\n",
            "['Tidy up', 'Walk the dog', 'Go to the pharmacy', 'Cook dinner', 'Wash the Car']\n"
          ]
        }
      ]
    },
    {
      "cell_type": "code",
      "source": [
        "stack = []\n",
        "for task in my_list:\n",
        "  stack.append(task)\n",
        "while stack:\n",
        "  print(stack.pop(), ' - Done!')\n",
        "print('\\nThe stack is empty')"
      ],
      "metadata": {
        "colab": {
          "base_uri": "https://localhost:8080/"
        },
        "id": "LtbcL1_KT5wL",
        "outputId": "b76d24fd-0c64-4983-829f-86571dd58d08"
      },
      "execution_count": null,
      "outputs": [
        {
          "output_type": "stream",
          "name": "stdout",
          "text": [
            "Cook dinner  - Done!\n",
            "Go to the pharmacy  - Done!\n",
            "Walk the dog  - Done!\n",
            "Tidy up  - Done!\n",
            "Pay bills  - Done!\n",
            "\n",
            "The stack is empty\n"
          ]
        }
      ]
    },
    {
      "cell_type": "code",
      "source": [
        "txt = '''Python is one of the most promising programming languages today. Due to the simplicity of Python syntax, many researchers and scientists prefer Python over many other languages.'''\n",
        "\n",
        "txt = txt.replace('.', '').replace(',', '')\n",
        "lst = txt.split()\n",
        "print(lst)"
      ],
      "metadata": {
        "id": "oteutcD1oQps",
        "colab": {
          "base_uri": "https://localhost:8080/"
        },
        "outputId": "551c7b7c-206c-43c9-9943-e61bf34bd90f"
      },
      "execution_count": null,
      "outputs": [
        {
          "output_type": "stream",
          "name": "stdout",
          "text": [
            "['Python', 'is', 'one', 'of', 'the', 'most', 'promising', 'programming', 'languages', 'today', 'Due', 'to', 'the', 'simplicity', 'of', 'Python', 'syntax', 'many', 'researchers', 'and', 'scientists', 'prefer', 'Python', 'over', 'many', 'other', 'languages']\n"
          ]
        }
      ]
    },
    {
      "cell_type": "code",
      "source": [
        "dct = {}\n",
        "for w in lst:\n",
        "  c = dct.setdefault(w,0)\n",
        "  dct[w] += 1\n",
        "\n",
        "dct_sorted = dict(sorted(dct.items(), key=lambda x: x[1], reverse=True))\n",
        "print(dct_sorted)"
      ],
      "metadata": {
        "colab": {
          "base_uri": "https://localhost:8080/"
        },
        "id": "T_TG2ev1Yu1y",
        "outputId": "ee8a4b19-87e8-4ba3-b46c-d381e69d1ffe"
      },
      "execution_count": null,
      "outputs": [
        {
          "output_type": "stream",
          "name": "stdout",
          "text": [
            "{'Python': 3, 'of': 2, 'the': 2, 'languages': 2, 'many': 2, 'is': 1, 'one': 1, 'most': 1, 'promising': 1, 'programming': 1, 'today': 1, 'Due': 1, 'to': 1, 'simplicity': 1, 'syntax': 1, 'researchers': 1, 'and': 1, 'scientists': 1, 'prefer': 1, 'over': 1, 'other': 1}\n"
          ]
        }
      ]
    },
    {
      "cell_type": "code",
      "source": [
        "l = [\n",
        "    {\n",
        "        'name' : 'photo1.jpg',\n",
        "        'tags' : {'coffee', 'breakfast', 'drink', 'table', 'tableware', 'cup', 'food'}\n",
        "    },\n",
        "    {\n",
        "        'name' : 'photo2.jpg',\n",
        "        'tags' : {'food', 'dish', 'meat', 'meal', 'tableware', 'dinner', 'vegetable'}\n",
        "    },\n",
        "    {\n",
        "        'name' : 'photo3.jpg'\n",
        "        'tags' : {'city', 'skyline', 'cityscape', 'skyscraper', 'architecture', 'building', 'travel'}\n",
        "    },\n",
        "    {\n",
        "        'name' : 'photo4.jpg'\n",
        "        'tags' : {'drink', 'juice', 'glass', 'meal', 'fruit', 'food', 'grapes'}\n",
        "    }\n",
        "]\n",
        "\n",
        "photo_groups = {}\n",
        "\n",
        "for i in range(1, len(1)):\n",
        "  for j in range(i + 1, len(1)+1):\n",
        "    print(f\"Interesting photo {i} with photo {j}\")\n",
        "    # Implament intersection here, saving results to photo_groups"
      ],
      "metadata": {
        "id": "lsV9d4_XCgmo"
      },
      "execution_count": null,
      "outputs": []
    },
    {
      "cell_type": "code",
      "source": [
        "import numpy as np\n",
        "jeff_salary = [2700, 3000, 3000]\n",
        "nick_salary = [2600, 2800, 2800]\n",
        "tom_salary = [2300, 2500, 2500]\n",
        "base_salary = np.array([jeff_salary, nick_salary, tom_salary])\n",
        "print(base_salary)"
      ],
      "metadata": {
        "colab": {
          "base_uri": "https://localhost:8080/"
        },
        "id": "xlWKe8tBBzfr",
        "outputId": "060a2a15-24b5-47fa-a8fa-68197290cba8"
      },
      "execution_count": null,
      "outputs": [
        {
          "output_type": "stream",
          "name": "stdout",
          "text": [
            "[[2700 3000 3000]\n",
            " [2600 2800 2800]\n",
            " [2300 2500 2500]]\n"
          ]
        }
      ]
    },
    {
      "cell_type": "code",
      "source": [
        "jeff_bonus = [500, 400, 400]\n",
        "nick_bonus = [600, 300, 400]\n",
        "tom_bonus = [200, 500, 400]\n",
        "bonus = np.array([jeff_bonus, nick_bonus, tom_bonus])\n",
        "\n",
        "salary_bonus = base_salary + bonus\n",
        "print(type(salary_bonus))\n",
        "print(salary_bonus)\n"
      ],
      "metadata": {
        "colab": {
          "base_uri": "https://localhost:8080/"
        },
        "id": "U3fzXOb2ClXX",
        "outputId": "15a30928-0e6d-4ee1-8d67-a410c605e11b"
      },
      "execution_count": null,
      "outputs": [
        {
          "output_type": "stream",
          "name": "stdout",
          "text": [
            "<class 'numpy.ndarray'>\n",
            "[[3200 3400 3400]\n",
            " [3200 3100 3200]\n",
            " [2500 3000 2900]]\n"
          ]
        }
      ]
    },
    {
      "cell_type": "code",
      "source": [
        "print(salary_bonus.max())"
      ],
      "metadata": {
        "colab": {
          "base_uri": "https://localhost:8080/"
        },
        "id": "5w0md20YDi3W",
        "outputId": "92057801-2584-4543-d8d5-062574aac3cf"
      },
      "execution_count": null,
      "outputs": [
        {
          "output_type": "stream",
          "name": "stdout",
          "text": [
            "3400\n"
          ]
        }
      ]
    },
    {
      "cell_type": "code",
      "source": [
        "print(np.amax(salary_bonus, axis=1))"
      ],
      "metadata": {
        "colab": {
          "base_uri": "https://localhost:8080/"
        },
        "id": "sn8Hvx5RFxsv",
        "outputId": "907b38b5-da57-4cbb-a38a-52007bc58a88"
      },
      "execution_count": null,
      "outputs": [
        {
          "output_type": "stream",
          "name": "stdout",
          "text": [
            "[3400 3200 3000]\n"
          ]
        }
      ]
    },
    {
      "cell_type": "code",
      "source": [
        "avg = np.amax(salary_bonus, axis=0)\n",
        "print(avg)"
      ],
      "metadata": {
        "colab": {
          "base_uri": "https://localhost:8080/"
        },
        "id": "YL4Czb8bF6Rj",
        "outputId": "45c7ec88-8aee-4ae3-d678-65f3dc4e305c"
      },
      "execution_count": null,
      "outputs": [
        {
          "output_type": "stream",
          "name": "stdout",
          "text": [
            "[3200 3400 3400]\n"
          ]
        }
      ]
    },
    {
      "cell_type": "code",
      "source": [
        "print(np.average(avg))"
      ],
      "metadata": {
        "colab": {
          "base_uri": "https://localhost:8080/"
        },
        "id": "TXumA5xFGJIK",
        "outputId": "d7a96251-6d52-4fbd-c7f5-058bcdf52e0d"
      },
      "execution_count": null,
      "outputs": [
        {
          "output_type": "stream",
          "name": "stdout",
          "text": [
            "3333.3333333333335\n"
          ]
        }
      ]
    },
    {
      "cell_type": "code",
      "source": [
        "import pandas as pd\n",
        "data = ['Jeff Russell', 'James Boorman', 'Tom Heints']\n",
        "emps_names = pd.Series(data, index=(9001, 9002, 9003))\n",
        "print(emps_names)"
      ],
      "metadata": {
        "colab": {
          "base_uri": "https://localhost:8080/"
        },
        "id": "Bgi13vj5HOLc",
        "outputId": "2ff5e50e-f2e2-46f8-ee20-4e0364dd57de"
      },
      "execution_count": null,
      "outputs": [
        {
          "output_type": "stream",
          "name": "stdout",
          "text": [
            "9001     Jeff Russell\n",
            "9002    James Boorman\n",
            "9003       Tom Heints\n",
            "dtype: object\n"
          ]
        }
      ]
    },
    {
      "cell_type": "code",
      "source": [
        "print(emps_names[9001])\n",
        "print(emps_names.iloc[0])"
      ],
      "metadata": {
        "colab": {
          "base_uri": "https://localhost:8080/"
        },
        "id": "5CiqYstzIqKK",
        "outputId": "5ea3a501-42b1-41ab-cb00-8ef1e6ab079c"
      },
      "execution_count": null,
      "outputs": [
        {
          "output_type": "stream",
          "name": "stdout",
          "text": [
            "Jeff Russell\n",
            "Jeff Russell\n"
          ]
        }
      ]
    },
    {
      "cell_type": "code",
      "source": [
        "data = ['jeff.russell', 'jane.boorman', 'tom.heints']\n",
        "phones = ['xxx-xxx-1234', 'xxx-xxx-5678', 'xxx-xxx-9101']\n",
        "emps_emails = pd.Series(data, index=[9001, 9002, 9003],name = 'emails')\n",
        "emps_names.name = 'names'\n",
        "emps_phones = pd.Series(phones, index=[9001, 9002, 9003], name = 'phones' )\n",
        "df = pd.concat([emps_names, emps_emails, emps_phones], axis=1)\n",
        "print(df)"
      ],
      "metadata": {
        "colab": {
          "base_uri": "https://localhost:8080/"
        },
        "id": "9pYe8V_UNQg6",
        "outputId": "bcb118f0-189a-4234-cb0f-1c245d5dcaba"
      },
      "execution_count": null,
      "outputs": [
        {
          "output_type": "stream",
          "name": "stdout",
          "text": [
            "              names        emails        phones\n",
            "9001   Jeff Russell  jeff.russell  xxx-xxx-1234\n",
            "9002  James Boorman  jane.boorman  xxx-xxx-5678\n",
            "9003     Tom Heints    tom.heints  xxx-xxx-9101\n"
          ]
        }
      ]
    },
    {
      "cell_type": "code",
      "source": [
        "import yfinance as yf\n",
        "tkr = yf.Ticker('TSLA')\n",
        "hist = tkr.history(period='5d')\n",
        "hist = hist.drop('Dividends', axis=1)\n",
        "hist = hist.drop('Stock Splits', axis = 1)\n",
        "hist = hist.reset_index()\n",
        "hist = hist.set_index('Date')\n",
        "print(hist)"
      ],
      "metadata": {
        "colab": {
          "base_uri": "https://localhost:8080/"
        },
        "id": "GP8IeE6pPrrZ",
        "outputId": "85aba53e-6895-4e44-d094-cce61f74efe0"
      },
      "execution_count": null,
      "outputs": [
        {
          "output_type": "stream",
          "name": "stdout",
          "text": [
            "                                 Open        High         Low       Close  \\\n",
            "Date                                                                        \n",
            "2023-11-08 00:00:00-05:00  223.149994  224.149994  217.639999  222.110001   \n",
            "2023-11-09 00:00:00-05:00  219.750000  220.800003  206.679993  209.979996   \n",
            "2023-11-10 00:00:00-05:00  210.029999  215.380005  205.690002  214.649994   \n",
            "2023-11-13 00:00:00-05:00  215.600006  225.399994  211.610001  223.710007   \n",
            "2023-11-14 00:00:00-05:00  235.029999  238.139999  230.720001  237.410004   \n",
            "\n",
            "                              Volume  \n",
            "Date                                  \n",
            "2023-11-08 00:00:00-05:00  106584800  \n",
            "2023-11-09 00:00:00-05:00  142110500  \n",
            "2023-11-10 00:00:00-05:00  130994000  \n",
            "2023-11-13 00:00:00-05:00  140447600  \n",
            "2023-11-14 00:00:00-05:00  148611400  \n"
          ]
        }
      ]
    },
    {
      "cell_type": "code",
      "source": [
        "import pandas as pd\n",
        "df = pd.read_csv('/content/amazon_cells_labelled.txt', names=['review', 'sentiment'], sep='\\t')"
      ],
      "metadata": {
        "id": "wzuJgOhTjac9"
      },
      "execution_count": 4,
      "outputs": []
    },
    {
      "cell_type": "code",
      "source": [
        "from sklearn.model_selection import train_test_split\n",
        "reviews = df['review'].values\n",
        "sentiments = df['sentiment'].values\n",
        "reviews_train, reviews_test, sentiment_train, sentiment_test = train_test_split(reviews, sentiments, test_size=0.2, random_state=500)"
      ],
      "metadata": {
        "id": "m6r_Vo2TpV1E"
      },
      "execution_count": 6,
      "outputs": []
    },
    {
      "cell_type": "code",
      "source": [
        "from sklearn.feature_extraction.text import CountVectorizer\n",
        "vectorizer = CountVectorizer()\n",
        "vectorizer.fit(reviews)\n",
        "X_train = vectorizer.transform(reviews_train)\n",
        "X_test = vectorizer.transform(reviews_test)\n",
        "\n",
        "from sklearn.linear_model import LogisticRegression\n",
        "classifier = LogisticRegression()\n",
        "classifier.fit(X_train, sentiment_train)\n",
        "\n",
        "accuracy = classifier.score(X_test, sentiment_test)\n",
        "print(\"Accuracy:\", accuracy)"
      ],
      "metadata": {
        "colab": {
          "base_uri": "https://localhost:8080/"
        },
        "id": "hC5dqoKEqOmo",
        "outputId": "7c64ba6d-ff07-40de-edd2-9e4db7bba521"
      },
      "execution_count": 8,
      "outputs": [
        {
          "output_type": "stream",
          "name": "stdout",
          "text": [
            "Accuracy: 0.81\n"
          ]
        }
      ]
    },
    {
      "cell_type": "code",
      "source": [
        "new_reviews = ['Old version of python useless', 'Very good effort, but not five stars', 'Clear and concise']\n",
        "X_new = vectorizer.transform(new_reviews)\n",
        "print(classifier.predict(X_new))"
      ],
      "metadata": {
        "colab": {
          "base_uri": "https://localhost:8080/"
        },
        "id": "HJ0WC62b3Y0V",
        "outputId": "3ca8f9b5-260d-411c-b54f-043fbe2cc471"
      },
      "execution_count": 9,
      "outputs": [
        {
          "output_type": "stream",
          "name": "stdout",
          "text": [
            "[0 0 1]\n"
          ]
        }
      ]
    }
  ]
}