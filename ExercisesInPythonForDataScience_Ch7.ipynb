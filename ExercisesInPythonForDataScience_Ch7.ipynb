{
  "nbformat": 4,
  "nbformat_minor": 0,
  "metadata": {
    "colab": {
      "provenance": [],
      "authorship_tag": "ABX9TyPeYj6+c6JPbtBp+gUq0dR+",
      "include_colab_link": true
    },
    "kernelspec": {
      "name": "python3",
      "display_name": "Python 3"
    },
    "language_info": {
      "name": "python"
    }
  },
  "cells": [
    {
      "cell_type": "markdown",
      "metadata": {
        "id": "view-in-github",
        "colab_type": "text"
      },
      "source": [
        "<a href=\"https://colab.research.google.com/github/Runa-w/Python_for_Data_Sci/blob/master/ExercisesInPythonForDataScience_Ch7.ipynb\" target=\"_parent\"><img src=\"https://colab.research.google.com/assets/colab-badge.svg\" alt=\"Open In Colab\"/></a>"
      ]
    },
    {
      "cell_type": "code",
      "execution_count": null,
      "metadata": {
        "colab": {
          "base_uri": "https://localhost:8080/"
        },
        "id": "bbt8y-gdNhNj",
        "outputId": "a88f985d-d365-42e9-b847-eb177ea7bb50"
      },
      "outputs": [
        {
          "output_type": "stream",
          "name": "stdout",
          "text": [
            "[(9423517, '2021-08-04', 9001), (4626232, '2021-08-04', 9003), (9423534, '2021-08-04', 9001), (9423679, '2021-08-05', 9002), (4626377, '2021-08-05', 9003), (4626412, '2021-08-05', 9004), (9423783, '2021-08-06', 9002), (4626490, '2021-08-06', 9004)]\n"
          ]
        }
      ],
      "source": [
        "orders_2022_02_04 = [\n",
        " (9423517, '2021-08-04', 9001),\n",
        " (4626232, '2021-08-04', 9003),\n",
        " (9423534, '2021-08-04', 9001)\n",
        "]\n",
        "orders_2022_02_05 = [\n",
        " (9423679, '2021-08-05', 9002),\n",
        " (4626377, '2021-08-05', 9003),\n",
        " (4626412, '2021-08-05', 9004)\n",
        "]\n",
        "orders_2022_02_06 = [\n",
        " (9423783, '2021-08-06', 9002),\n",
        " (4626490, '2021-08-06', 9004)\n",
        "]\n",
        "\n",
        "orders = orders_2022_02_04 + orders_2022_02_05 + orders_2022_02_06\n",
        "\n",
        "print(orders)"
      ]
    },
    {
      "cell_type": "code",
      "source": [
        "extra_fields_9423517 = {\n",
        "    'ShippingInstrustions' : { 'name' : 'John Silver', 'Phone' : [{ 'type' : 'Office', 'number' : '809-123-9309'}, { 'type' : 'Mobile', 'number' : '417-123-4567'}]}\n",
        "}\n",
        "\n",
        "order_9423517 = {'OrderNo':9423517, 'Date':'2022-02-04', 'Empno':9001}\n",
        "\n",
        "order_9423517 = {**order_9423517, **extra_fields_9423517}\n",
        "\n",
        "print(order_9423517)"
      ],
      "metadata": {
        "colab": {
          "base_uri": "https://localhost:8080/"
        },
        "id": "crhvt1DZwraQ",
        "outputId": "e4d06af7-63e5-4d48-9a17-92c30de54a46"
      },
      "execution_count": null,
      "outputs": [
        {
          "output_type": "stream",
          "name": "stdout",
          "text": [
            "{'OrderNo': 9423517, 'Date': '2022-02-04', 'Empno': 9001, 'ShippingInstrustions': {'name': 'John Silver', 'Phone': [{'type': 'Office', 'number': '809-123-9309'}, {'type': 'Mobile', 'number': '417-123-4567'}]}}\n"
          ]
        }
      ]
    },
    {
      "cell_type": "code",
      "source": [
        "details = [\n",
        " (9423517, 'Jeans', 'Rip Curl', 87.0, 1),\n",
        " (9423517, 'Jacket', 'The North Face', 112.0, 1),\n",
        " (4626232, 'Socks', 'Vans', 15.0, 1),\n",
        " (4626232, 'Jeans', 'Quiksilver', 82.0, 1),\n",
        " (9423534, 'Socks', 'DC', 10.0, 2),\n",
        " (9423534, 'Socks', 'Quiksilver', 12.0, 2),\n",
        " (9423679, 'T-shirt', 'Patagonia', 35.0, 1),\n",
        " (4626377, 'Hoody', 'Animal', 44.0, 1),\n",
        " (4626377, 'Cargo Shorts', 'Animal', 38.0, 1),\n",
        " (4626412, 'Shirt', 'Volcom', 78.0, 1),\n",
        " (9423783, 'Boxer Shorts', 'Superdry', 30.0, 2),\n",
        " (9423783, 'Shorts', 'Globe', 26.0, 1),\n",
        " (4626490, 'Cargo Shorts', 'Billabong', 54.0, 1),\n",
        " (4626490, 'Sweater', 'Dickies', 56.0, 1)\n",
        "]\n",
        "\n",
        "order_details = [[o for o in orders if d[0] == o[0]][0] + d[1:] for d in details]\n",
        "\n",
        "print(order_details)"
      ],
      "metadata": {
        "colab": {
          "base_uri": "https://localhost:8080/"
        },
        "id": "HemPBoVsPTr8",
        "outputId": "11af4486-8bd6-4847-9fe0-2b481c20843b"
      },
      "execution_count": null,
      "outputs": [
        {
          "output_type": "stream",
          "name": "stdout",
          "text": [
            "[(9423517, '2021-08-04', 9001, 'Jeans', 'Rip Curl', 87.0, 1), (9423517, '2021-08-04', 9001, 'Jacket', 'The North Face', 112.0, 1), (4626232, '2021-08-04', 9003, 'Socks', 'Vans', 15.0, 1), (4626232, '2021-08-04', 9003, 'Jeans', 'Quiksilver', 82.0, 1), (9423534, '2021-08-04', 9001, 'Socks', 'DC', 10.0, 2), (9423534, '2021-08-04', 9001, 'Socks', 'Quiksilver', 12.0, 2), (9423679, '2021-08-05', 9002, 'T-shirt', 'Patagonia', 35.0, 1), (4626377, '2021-08-05', 9003, 'Hoody', 'Animal', 44.0, 1), (4626377, '2021-08-05', 9003, 'Cargo Shorts', 'Animal', 38.0, 1), (4626412, '2021-08-05', 9004, 'Shirt', 'Volcom', 78.0, 1), (9423783, '2021-08-06', 9002, 'Boxer Shorts', 'Superdry', 30.0, 2), (9423783, '2021-08-06', 9002, 'Shorts', 'Globe', 26.0, 1), (4626490, '2021-08-06', 9004, 'Cargo Shorts', 'Billabong', 54.0, 1), (4626490, '2021-08-06', 9004, 'Sweater', 'Dickies', 56.0, 1)]\n"
          ]
        }
      ]
    },
    {
      "cell_type": "code",
      "source": [
        "details.append((4626592, 'Shorts', 'Protest', 48.0, 1))\n",
        "\n",
        "order_details_right = [[o for o in orders if d[0] in o][0] + d[1:] if d[0] in [o[0] for o in orders] else (d[0], None, None) + d[1:] for d in details]\n",
        "sum(pr*qt for _, _, _, _, _, pr, qt in order_details_right)"
      ],
      "metadata": {
        "colab": {
          "base_uri": "https://localhost:8080/"
        },
        "id": "njdZcI-F2dox",
        "outputId": "028ebe8d-9e63-4696-cdbe-71997b7591ab"
      },
      "execution_count": null,
      "outputs": [
        {
          "output_type": "execute_result",
          "data": {
            "text/plain": [
              "779.0"
            ]
          },
          "metadata": {},
          "execution_count": 9
        }
      ]
    },
    {
      "cell_type": "code",
      "source": [
        "import numpy as np\n",
        "jeff_salary = [2700, 3000, 3000]\n",
        "nick_salary = [2600, 2800, 2800]\n",
        "tom_salary = [2300, 2500, 2500]\n",
        "base_salary1 = np.array([jeff_salary, nick_salary, tom_salary])\n",
        "\n",
        "maya_salary = [2200, 2400, 2400]\n",
        "john_salary = [2500, 2700, 2700]\n",
        "base_salary2 = np.array([maya_salary, john_salary])\n",
        "\n",
        "base_salary = np.concatenate((base_salary1, base_salary2), axis = 0)\n",
        "\n",
        "print(base_salary)"
      ],
      "metadata": {
        "colab": {
          "base_uri": "https://localhost:8080/"
        },
        "id": "x45VnIuxFdsp",
        "outputId": "a6e5d651-cc9c-45e8-dd2f-fa081415ba3a"
      },
      "execution_count": null,
      "outputs": [
        {
          "output_type": "stream",
          "name": "stdout",
          "text": [
            "[[2700 3000 3000]\n",
            " [2600 2800 2800]\n",
            " [2300 2500 2500]\n",
            " [2200 2400 2400]\n",
            " [2500 2700 2700]]\n"
          ]
        }
      ]
    },
    {
      "cell_type": "code",
      "source": [
        "new_month_salary = np.array([[3000],[2900],[2500],[3500],[2700]])\n",
        "print(new_month_salary)"
      ],
      "metadata": {
        "colab": {
          "base_uri": "https://localhost:8080/"
        },
        "id": "oiNTuwNAHw-g",
        "outputId": "c5334e6f-d8a7-4649-d88b-f3e1d6ef16d3"
      },
      "execution_count": null,
      "outputs": [
        {
          "output_type": "stream",
          "name": "stdout",
          "text": [
            "[[3000]\n",
            " [2900]\n",
            " [2500]\n",
            " [3500]\n",
            " [2700]]\n"
          ]
        }
      ]
    },
    {
      "cell_type": "code",
      "source": [
        "base_salary = np.concatenate((base_salary, new_month_salary), axis=1)\n",
        "print(base_salary)"
      ],
      "metadata": {
        "colab": {
          "base_uri": "https://localhost:8080/"
        },
        "id": "1uhVhOrHIUJ4",
        "outputId": "f862c012-f1c6-4896-cd67-c21d554ad524"
      },
      "execution_count": null,
      "outputs": [
        {
          "output_type": "stream",
          "name": "stdout",
          "text": [
            "[[2700 3000 3000 3000]\n",
            " [2600 2800 2800 2900]\n",
            " [2300 2500 2500 2500]\n",
            " [2200 2400 2400 3500]\n",
            " [2500 2700 2700 2700]]\n"
          ]
        }
      ]
    },
    {
      "cell_type": "code",
      "source": [
        "import pandas as pd\n",
        "salary_df1 = pd.DataFrame(\n",
        "    {'jeff': jeff_salary,\n",
        "     'nick': nick_salary,\n",
        "     'tom': tom_salary}\n",
        ")\n",
        "\n",
        "salary_df1.index = ['June', 'July', 'August']\n",
        "print(salary_df1\n",
        ")"
      ],
      "metadata": {
        "colab": {
          "base_uri": "https://localhost:8080/"
        },
        "id": "ofwL1WJ3Koce",
        "outputId": "cbddf3fb-e9a0-47c5-f143-18dfc9e45ec4"
      },
      "execution_count": null,
      "outputs": [
        {
          "output_type": "stream",
          "name": "stdout",
          "text": [
            "        jeff  nick   tom\n",
            "June    2700  2600  2300\n",
            "July    3000  2800  2500\n",
            "August  3000  2800  2500\n"
          ]
        }
      ]
    },
    {
      "cell_type": "code",
      "source": [
        "salary_df1 = salary_df1.transpose()\n",
        "print(salary_df1)"
      ],
      "metadata": {
        "colab": {
          "base_uri": "https://localhost:8080/"
        },
        "id": "pLxTYeatLceJ",
        "outputId": "e5569901-2b79-4817-92ad-108aa36703fd"
      },
      "execution_count": null,
      "outputs": [
        {
          "output_type": "stream",
          "name": "stdout",
          "text": [
            "      June  July  August\n",
            "jeff  2700  3000    3000\n",
            "nick  2600  2800    2800\n",
            "tom   2300  2500    2500\n"
          ]
        }
      ]
    },
    {
      "cell_type": "code",
      "source": [
        "salary_df2 = pd.DataFrame(\n",
        "    {'maya': maya_salary,\n",
        "     'john': john_salary},\n",
        "    index = ['June', 'July', 'August']\n",
        ").transpose()\n",
        "print(salary_df2)"
      ],
      "metadata": {
        "colab": {
          "base_uri": "https://localhost:8080/"
        },
        "id": "C97NCrZgLykO",
        "outputId": "5781df6b-7aaf-43b5-93a3-f69988e955dc"
      },
      "execution_count": null,
      "outputs": [
        {
          "output_type": "stream",
          "name": "stdout",
          "text": [
            "      June  July  August\n",
            "maya  2200  2400    2400\n",
            "john  2500  2700    2700\n"
          ]
        }
      ]
    },
    {
      "cell_type": "code",
      "source": [
        "salary_df = pd.concat([salary_df1, salary_df2])\n",
        "print(salary_df)"
      ],
      "metadata": {
        "colab": {
          "base_uri": "https://localhost:8080/"
        },
        "id": "GnCmuW26MiOs",
        "outputId": "97c65559-8231-4835-85ae-7aedaa2ffe76"
      },
      "execution_count": null,
      "outputs": [
        {
          "output_type": "stream",
          "name": "stdout",
          "text": [
            "      June  July  August\n",
            "jeff  2700  3000    3000\n",
            "nick  2600  2800    2800\n",
            "tom   2300  2500    2500\n",
            "maya  2200  2400    2400\n",
            "john  2500  2700    2700\n"
          ]
        }
      ]
    },
    {
      "cell_type": "code",
      "source": [
        "salary_df3 = pd.DataFrame(\n",
        "    {'September': [3000,2800,2500,2400,2700],\n",
        "     'October': [3200,3000,2700,2500,2900]},\n",
        "    index = ['jeff', 'nick', 'tom', 'maya', 'john']\n",
        ")\n",
        "\n",
        "salary_df = pd.concat([salary_df, salary_df3], axis=1)\n",
        "\n",
        "print(salary_df)"
      ],
      "metadata": {
        "colab": {
          "base_uri": "https://localhost:8080/"
        },
        "id": "RnJalzbMRxN5",
        "outputId": "b30885b3-303a-42fb-a780-6192aa188df3"
      },
      "execution_count": null,
      "outputs": [
        {
          "output_type": "stream",
          "name": "stdout",
          "text": [
            "      June  July  August  September  October\n",
            "jeff  2700  3000    3000       3000     3200\n",
            "nick  2600  2800    2800       2800     3000\n",
            "tom   2300  2500    2500       2500     2700\n",
            "maya  2200  2400    2400       2400     2500\n",
            "john  2500  2700    2700       2700     2900\n"
          ]
        }
      ]
    },
    {
      "cell_type": "code",
      "source": [
        "salary_df = salary_df.drop(['September', 'October'], axis=1)\n",
        "print(salary_df)"
      ],
      "metadata": {
        "colab": {
          "base_uri": "https://localhost:8080/"
        },
        "id": "_RixJE2oSpFI",
        "outputId": "f81ea79c-588e-4c41-8901-1f4c8685a8ab"
      },
      "execution_count": null,
      "outputs": [
        {
          "output_type": "stream",
          "name": "stdout",
          "text": [
            "      June  July  August\n",
            "jeff  2700  3000    3000\n",
            "nick  2600  2800    2800\n",
            "tom   2300  2500    2500\n",
            "maya  2200  2400    2400\n",
            "john  2500  2700    2700\n"
          ]
        }
      ]
    },
    {
      "cell_type": "code",
      "source": [
        "salary_df = salary_df.drop(['nick', 'maya'], axis=0)\n",
        "print(salary_df)"
      ],
      "metadata": {
        "colab": {
          "base_uri": "https://localhost:8080/"
        },
        "id": "OFvY9uyWS9y8",
        "outputId": "c1be6b28-93e9-46b9-dc9f-cf777f5d00be"
      },
      "execution_count": null,
      "outputs": [
        {
          "output_type": "stream",
          "name": "stdout",
          "text": [
            "      June  July  August\n",
            "jeff  2700  3000    3000\n",
            "tom   2300  2500    2500\n",
            "john  2500  2700    2700\n"
          ]
        }
      ]
    },
    {
      "cell_type": "code",
      "source": [
        "df_date_region1 = pd.DataFrame(\n",
        "    [\n",
        "        ('2022-02-04', 'East', 97.0),\n",
        "        ('2022-02-04', 'West', 243.0),\n",
        "        ('2022-02-05', 'East', 160.0),\n",
        "        ('2022-02-05', 'West', 35.0),\n",
        "        ('2022-02-06', 'East', 110.0),\n",
        "        ('2022-02-06', 'West', 86.0)\n",
        "    ],\n",
        "    columns=['Date', 'Region', 'Total']).set_index(['Date', 'Region'])\n",
        "\n",
        "df_date_region2 = pd.DataFrame(\n",
        "    [\n",
        "        ('2022-02-04', 'South', 114.0),\n",
        "        ('2022-02-05', 'South', 325.0),\n",
        "        ('2022-02-06', 'South', 212.0)\n",
        "    ],\n",
        "    columns=['Date', 'Region', 'Total']).set_index(['Date', 'Region'])\n",
        "\n",
        "df_date_region = pd.concat([df_date_region1, df_date_region2]).sort_index(level=['Date', 'Region'])\n",
        "\n",
        "print(df_date_region)"
      ],
      "metadata": {
        "colab": {
          "base_uri": "https://localhost:8080/"
        },
        "id": "hJaPcF2DT_cY",
        "outputId": "aa3b35f9-2451-46f0-ad53-5e46a74ff2b2"
      },
      "execution_count": null,
      "outputs": [
        {
          "output_type": "stream",
          "name": "stdout",
          "text": [
            "                   Total\n",
            "Date       Region       \n",
            "2022-02-04 East     97.0\n",
            "           South   114.0\n",
            "           West    243.0\n",
            "2022-02-05 East    160.0\n",
            "           South   325.0\n",
            "           West     35.0\n",
            "2022-02-06 East    110.0\n",
            "           South   212.0\n",
            "           West     86.0\n"
          ]
        }
      ]
    },
    {
      "cell_type": "code",
      "source": [
        "import pandas as pd\n",
        "df_orders = pd.DataFrame(orders, columns =['OrderNo', 'Date', 'Empco'])\n",
        "df_details = pd.DataFrame(details, columns = ['OrderNo', 'Item', 'Brand','Price', 'Quantity'])"
      ],
      "metadata": {
        "id": "4nJBFrGT7tY2"
      },
      "execution_count": null,
      "outputs": []
    },
    {
      "cell_type": "code",
      "source": [
        "df_details = df_details.append(\n",
        "    {'OrderNo': 4626592,\n",
        "     'Item': 'Shorts',\n",
        "     'Brand': 'Protest',\n",
        "     'Price': 48.0,\n",
        "     'Quantity': 1\n",
        "     },\n",
        "    ignore_index = True\n",
        ")\n",
        "\n",
        "df_orders_details_right = df_orders.merge(df_details, how='right', left_on='OrderNo', right_on='OrderNo')\n",
        "print(df_orders_details_right )"
      ],
      "metadata": {
        "colab": {
          "base_uri": "https://localhost:8080/"
        },
        "id": "rzcXNCqV8sjo",
        "outputId": "1282c44c-0508-4f35-af3b-9c17a59cb6bc"
      },
      "execution_count": null,
      "outputs": [
        {
          "output_type": "stream",
          "name": "stdout",
          "text": [
            "    OrderNo        Date   Empco          Item           Brand  Price  Quantity\n",
            "0   9423517  2021-08-04  9001.0         Jeans        Rip Curl   87.0         1\n",
            "1   9423517  2021-08-04  9001.0        Jacket  The North Face  112.0         1\n",
            "2   4626232  2021-08-04  9003.0         Socks            Vans   15.0         1\n",
            "3   4626232  2021-08-04  9003.0         Jeans      Quiksilver   82.0         1\n",
            "4   9423534  2021-08-04  9001.0         Socks              DC   10.0         2\n",
            "5   9423534  2021-08-04  9001.0         Socks      Quiksilver   12.0         2\n",
            "6   9423679  2021-08-05  9002.0       T-shirt       Patagonia   35.0         1\n",
            "7   4626377  2021-08-05  9003.0         Hoody          Animal   44.0         1\n",
            "8   4626377  2021-08-05  9003.0  Cargo Shorts          Animal   38.0         1\n",
            "9   4626412  2021-08-05  9004.0         Shirt          Volcom   78.0         1\n",
            "10  9423783  2021-08-06  9002.0  Boxer Shorts        Superdry   30.0         2\n",
            "11  9423783  2021-08-06  9002.0        Shorts           Globe   26.0         1\n",
            "12  4626490  2021-08-06  9004.0  Cargo Shorts       Billabong   54.0         1\n",
            "13  4626490  2021-08-06  9004.0       Sweater         Dickies   56.0         1\n",
            "14  4626592         NaN     NaN        Shorts         Protest   48.0         1\n",
            "15  4626592         NaN     NaN        Shorts         Protest   48.0         1\n"
          ]
        },
        {
          "output_type": "stream",
          "name": "stderr",
          "text": [
            "<ipython-input-22-09fdb7bf3dc8>:1: FutureWarning: The frame.append method is deprecated and will be removed from pandas in a future version. Use pandas.concat instead.\n",
            "  df_details = df_details.append(\n"
          ]
        }
      ]
    },
    {
      "cell_type": "code",
      "source": [
        "df_orders_details_right = df_orders_details_right.fillna({'Empno':0}).astype({'Empno':'int64'})\n",
        "print(df_orders_details_right)"
      ],
      "metadata": {
        "colab": {
          "base_uri": "https://localhost:8080/",
          "height": 315
        },
        "id": "TGhwsV4bQ7Sb",
        "outputId": "67d48839-fdb0-4d9b-c0c4-61f70d5e2bf8"
      },
      "execution_count": null,
      "outputs": [
        {
          "output_type": "error",
          "ename": "KeyError",
          "evalue": "ignored",
          "traceback": [
            "\u001b[0;31m---------------------------------------------------------------------------\u001b[0m",
            "\u001b[0;31mKeyError\u001b[0m                                  Traceback (most recent call last)",
            "\u001b[0;32m<ipython-input-24-c555a52b7288>\u001b[0m in \u001b[0;36m<cell line: 1>\u001b[0;34m()\u001b[0m\n\u001b[0;32m----> 1\u001b[0;31m \u001b[0mdf_orders_details_right\u001b[0m \u001b[0;34m=\u001b[0m \u001b[0mdf_orders_details_right\u001b[0m\u001b[0;34m.\u001b[0m\u001b[0mfillna\u001b[0m\u001b[0;34m(\u001b[0m\u001b[0;34m{\u001b[0m\u001b[0;34m'Empno'\u001b[0m\u001b[0;34m:\u001b[0m\u001b[0;36m0\u001b[0m\u001b[0;34m}\u001b[0m\u001b[0;34m)\u001b[0m\u001b[0;34m.\u001b[0m\u001b[0mastype\u001b[0m\u001b[0;34m(\u001b[0m\u001b[0;34m{\u001b[0m\u001b[0;34m'Empno'\u001b[0m\u001b[0;34m:\u001b[0m\u001b[0;34m'int64'\u001b[0m\u001b[0;34m}\u001b[0m\u001b[0;34m)\u001b[0m\u001b[0;34m\u001b[0m\u001b[0;34m\u001b[0m\u001b[0m\n\u001b[0m\u001b[1;32m      2\u001b[0m \u001b[0mprint\u001b[0m\u001b[0;34m(\u001b[0m\u001b[0mdf_orders_details_right\u001b[0m\u001b[0;34m)\u001b[0m\u001b[0;34m\u001b[0m\u001b[0;34m\u001b[0m\u001b[0m\n",
            "\u001b[0;32m/usr/local/lib/python3.10/dist-packages/pandas/core/generic.py\u001b[0m in \u001b[0;36mastype\u001b[0;34m(self, dtype, copy, errors)\u001b[0m\n\u001b[1;32m   6210\u001b[0m             \u001b[0;32mfor\u001b[0m \u001b[0mcol_name\u001b[0m \u001b[0;32min\u001b[0m \u001b[0mdtype_ser\u001b[0m\u001b[0;34m.\u001b[0m\u001b[0mindex\u001b[0m\u001b[0;34m:\u001b[0m\u001b[0;34m\u001b[0m\u001b[0;34m\u001b[0m\u001b[0m\n\u001b[1;32m   6211\u001b[0m                 \u001b[0;32mif\u001b[0m \u001b[0mcol_name\u001b[0m \u001b[0;32mnot\u001b[0m \u001b[0;32min\u001b[0m \u001b[0mself\u001b[0m\u001b[0;34m:\u001b[0m\u001b[0;34m\u001b[0m\u001b[0;34m\u001b[0m\u001b[0m\n\u001b[0;32m-> 6212\u001b[0;31m                     raise KeyError(\n\u001b[0m\u001b[1;32m   6213\u001b[0m                         \u001b[0;34m\"Only a column name can be used for the \"\u001b[0m\u001b[0;34m\u001b[0m\u001b[0;34m\u001b[0m\u001b[0m\n\u001b[1;32m   6214\u001b[0m                         \u001b[0;34m\"key in a dtype mappings argument. \"\u001b[0m\u001b[0;34m\u001b[0m\u001b[0;34m\u001b[0m\u001b[0m\n",
            "\u001b[0;31mKeyError\u001b[0m: \"Only a column name can be used for the key in a dtype mappings argument. 'Empno' not found in columns.\""
          ]
        }
      ]
    },
    {
      "cell_type": "code",
      "source": [],
      "metadata": {
        "id": "JYTf0UIQRxD6"
      },
      "execution_count": null,
      "outputs": []
    }
  ]
}